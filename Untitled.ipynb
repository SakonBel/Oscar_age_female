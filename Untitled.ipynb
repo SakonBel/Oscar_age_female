{
 "cells": [
  {
   "cell_type": "code",
   "execution_count": 2,
   "id": "bd7c36e7",
   "metadata": {},
   "outputs": [],
   "source": [
    "import pandas as pd"
   ]
  },
  {
   "cell_type": "code",
   "execution_count": 35,
   "id": "36ecf0dd",
   "metadata": {},
   "outputs": [],
   "source": [
    "df = pd.read_csv(\"oscar_age_female.csv\")"
   ]
  },
  {
   "cell_type": "code",
   "execution_count": 54,
   "id": "187d2595",
   "metadata": {},
   "outputs": [
    {
     "data": {
      "text/html": [
       "<div>\n",
       "<style scoped>\n",
       "    .dataframe tbody tr th:only-of-type {\n",
       "        vertical-align: middle;\n",
       "    }\n",
       "\n",
       "    .dataframe tbody tr th {\n",
       "        vertical-align: top;\n",
       "    }\n",
       "\n",
       "    .dataframe thead th {\n",
       "        text-align: right;\n",
       "    }\n",
       "</style>\n",
       "<table border=\"1\" class=\"dataframe\">\n",
       "  <thead>\n",
       "    <tr style=\"text-align: right;\">\n",
       "      <th></th>\n",
       "      <th>Index</th>\n",
       "      <th>Year</th>\n",
       "      <th>Age</th>\n",
       "      <th>Name</th>\n",
       "      <th>Movie</th>\n",
       "      <th>Movie_2</th>\n",
       "    </tr>\n",
       "  </thead>\n",
       "  <tbody>\n",
       "    <tr>\n",
       "      <th>47</th>\n",
       "      <td>48</td>\n",
       "      <td>1975</td>\n",
       "      <td>42</td>\n",
       "      <td>\"Ellen Burstyn\"</td>\n",
       "      <td>\"Alice Doesn't Live Here Anymore\"\\t</td>\n",
       "      <td>NaN</td>\n",
       "    </tr>\n",
       "    <tr>\n",
       "      <th>63</th>\n",
       "      <td>64</td>\n",
       "      <td>1991</td>\n",
       "      <td>42</td>\n",
       "      <td>\"Kathy Bates\"</td>\n",
       "      <td>\"Misery\"</td>\n",
       "      <td>NaN</td>\n",
       "    </tr>\n",
       "  </tbody>\n",
       "</table>\n",
       "</div>"
      ],
      "text/plain": [
       "    Index  Year  Age              Name                                 Movie  \\\n",
       "47     48  1975   42   \"Ellen Burstyn\"   \"Alice Doesn't Live Here Anymore\"\\t   \n",
       "63     64  1991   42     \"Kathy Bates\"                              \"Misery\"   \n",
       "\n",
       "   Movie_2  \n",
       "47     NaN  \n",
       "63     NaN  "
      ]
     },
     "execution_count": 54,
     "metadata": {},
     "output_type": "execute_result"
    }
   ],
   "source": [
    "df[df[\"Age\"] == 42]"
   ]
  },
  {
   "cell_type": "code",
   "execution_count": 50,
   "id": "df81cf31",
   "metadata": {},
   "outputs": [
    {
     "data": {
      "text/html": [
       "<div>\n",
       "<style scoped>\n",
       "    .dataframe tbody tr th:only-of-type {\n",
       "        vertical-align: middle;\n",
       "    }\n",
       "\n",
       "    .dataframe tbody tr th {\n",
       "        vertical-align: top;\n",
       "    }\n",
       "\n",
       "    .dataframe thead th {\n",
       "        text-align: right;\n",
       "    }\n",
       "</style>\n",
       "<table border=\"1\" class=\"dataframe\">\n",
       "  <thead>\n",
       "    <tr style=\"text-align: right;\">\n",
       "      <th></th>\n",
       "      <th>Index</th>\n",
       "      <th>Year</th>\n",
       "      <th>Age</th>\n",
       "      <th>Name</th>\n",
       "      <th>Movie</th>\n",
       "      <th>Movie_2</th>\n",
       "    </tr>\n",
       "  </thead>\n",
       "  <tbody>\n",
       "    <tr>\n",
       "      <th>0</th>\n",
       "      <td>1</td>\n",
       "      <td>1928</td>\n",
       "      <td>22</td>\n",
       "      <td>\"Janet Gaynor\"</td>\n",
       "      <td>\"Seventh Heaven</td>\n",
       "      <td>Street Angel and Sunrise: A Song of Two Humans\"</td>\n",
       "    </tr>\n",
       "    <tr>\n",
       "      <th>1</th>\n",
       "      <td>2</td>\n",
       "      <td>1929</td>\n",
       "      <td>37</td>\n",
       "      <td>\"Mary Pickford\"</td>\n",
       "      <td>\"Coquette\"</td>\n",
       "      <td>NaN</td>\n",
       "    </tr>\n",
       "    <tr>\n",
       "      <th>2</th>\n",
       "      <td>3</td>\n",
       "      <td>1930</td>\n",
       "      <td>28</td>\n",
       "      <td>\"Norma Shearer\"</td>\n",
       "      <td>\"The Divorcee\"\\t</td>\n",
       "      <td>NaN</td>\n",
       "    </tr>\n",
       "    <tr>\n",
       "      <th>3</th>\n",
       "      <td>4</td>\n",
       "      <td>1931</td>\n",
       "      <td>63</td>\n",
       "      <td>\"Marie Dressler\"</td>\n",
       "      <td>\"Min and Bill\"</td>\n",
       "      <td>NaN</td>\n",
       "    </tr>\n",
       "    <tr>\n",
       "      <th>4</th>\n",
       "      <td>5</td>\n",
       "      <td>1932</td>\n",
       "      <td>32</td>\n",
       "      <td>\"Helen Hayes\"</td>\n",
       "      <td>\"The Sin of Madelon Claudet\"\\t</td>\n",
       "      <td>NaN</td>\n",
       "    </tr>\n",
       "  </tbody>\n",
       "</table>\n",
       "</div>"
      ],
      "text/plain": [
       "   Index  Year  Age               Name                            Movie  \\\n",
       "0      1  1928   22     \"Janet Gaynor\"                  \"Seventh Heaven   \n",
       "1      2  1929   37    \"Mary Pickford\"                       \"Coquette\"   \n",
       "2      3  1930   28    \"Norma Shearer\"                 \"The Divorcee\"\\t   \n",
       "3      4  1931   63   \"Marie Dressler\"                   \"Min and Bill\"   \n",
       "4      5  1932   32      \"Helen Hayes\"   \"The Sin of Madelon Claudet\"\\t   \n",
       "\n",
       "                                            Movie_2  \n",
       "0   Street Angel and Sunrise: A Song of Two Humans\"  \n",
       "1                                               NaN  \n",
       "2                                               NaN  \n",
       "3                                               NaN  \n",
       "4                                               NaN  "
      ]
     },
     "execution_count": 50,
     "metadata": {},
     "output_type": "execute_result"
    }
   ],
   "source": [
    "df.head()"
   ]
  },
  {
   "cell_type": "code",
   "execution_count": 51,
   "id": "f5977ed1",
   "metadata": {},
   "outputs": [
    {
     "data": {
      "text/html": [
       "<div>\n",
       "<style scoped>\n",
       "    .dataframe tbody tr th:only-of-type {\n",
       "        vertical-align: middle;\n",
       "    }\n",
       "\n",
       "    .dataframe tbody tr th {\n",
       "        vertical-align: top;\n",
       "    }\n",
       "\n",
       "    .dataframe thead th {\n",
       "        text-align: right;\n",
       "    }\n",
       "</style>\n",
       "<table border=\"1\" class=\"dataframe\">\n",
       "  <thead>\n",
       "    <tr style=\"text-align: right;\">\n",
       "      <th></th>\n",
       "      <th>Index</th>\n",
       "      <th>Year</th>\n",
       "      <th>Age</th>\n",
       "      <th>Name</th>\n",
       "      <th>Movie</th>\n",
       "      <th>Movie_2</th>\n",
       "    </tr>\n",
       "  </thead>\n",
       "  <tbody>\n",
       "    <tr>\n",
       "      <th>84</th>\n",
       "      <td>85</td>\n",
       "      <td>2012</td>\n",
       "      <td>62</td>\n",
       "      <td>\"Meryl Streep\"</td>\n",
       "      <td>\"The Iron Lady\"</td>\n",
       "      <td>NaN</td>\n",
       "    </tr>\n",
       "    <tr>\n",
       "      <th>85</th>\n",
       "      <td>86</td>\n",
       "      <td>2013</td>\n",
       "      <td>22</td>\n",
       "      <td>\"Jennifer Lawrence\"</td>\n",
       "      <td>\"Silver Linings Playbook\"</td>\n",
       "      <td>NaN</td>\n",
       "    </tr>\n",
       "    <tr>\n",
       "      <th>86</th>\n",
       "      <td>87</td>\n",
       "      <td>2014</td>\n",
       "      <td>44</td>\n",
       "      <td>\"Cate Blanchett\"</td>\n",
       "      <td>\"Blue Jasmine\"</td>\n",
       "      <td>NaN</td>\n",
       "    </tr>\n",
       "    <tr>\n",
       "      <th>87</th>\n",
       "      <td>88</td>\n",
       "      <td>2015</td>\n",
       "      <td>54</td>\n",
       "      <td>\"Julianne Moore\"</td>\n",
       "      <td>\"Still Alice\"</td>\n",
       "      <td>NaN</td>\n",
       "    </tr>\n",
       "    <tr>\n",
       "      <th>88</th>\n",
       "      <td>89</td>\n",
       "      <td>2016</td>\n",
       "      <td>26</td>\n",
       "      <td>\"Brie Larson\"</td>\n",
       "      <td>\"Room\"</td>\n",
       "      <td>NaN</td>\n",
       "    </tr>\n",
       "  </tbody>\n",
       "</table>\n",
       "</div>"
      ],
      "text/plain": [
       "    Index  Year  Age                  Name                       Movie Movie_2\n",
       "84     85  2012   62        \"Meryl Streep\"             \"The Iron Lady\"     NaN\n",
       "85     86  2013   22   \"Jennifer Lawrence\"   \"Silver Linings Playbook\"     NaN\n",
       "86     87  2014   44      \"Cate Blanchett\"              \"Blue Jasmine\"     NaN\n",
       "87     88  2015   54      \"Julianne Moore\"               \"Still Alice\"     NaN\n",
       "88     89  2016   26         \"Brie Larson\"                      \"Room\"     NaN"
      ]
     },
     "execution_count": 51,
     "metadata": {},
     "output_type": "execute_result"
    }
   ],
   "source": [
    "df.tail()"
   ]
  },
  {
   "cell_type": "code",
   "execution_count": 52,
   "id": "947a5344",
   "metadata": {},
   "outputs": [
    {
     "data": {
      "text/plain": [
       "0     22\n",
       "1     37\n",
       "2     28\n",
       "3     63\n",
       "4     32\n",
       "      ..\n",
       "84    62\n",
       "85    22\n",
       "86    44\n",
       "87    54\n",
       "88    26\n",
       "Name: Age, Length: 89, dtype: int64"
      ]
     },
     "execution_count": 52,
     "metadata": {},
     "output_type": "execute_result"
    }
   ],
   "source": [
    "df[\"Age\"]"
   ]
  },
  {
   "cell_type": "code",
   "execution_count": 55,
   "id": "40ce7f1e",
   "metadata": {},
   "outputs": [
    {
     "data": {
      "text/plain": [
       "0           \"Janet Gaynor\"\n",
       "1          \"Mary Pickford\"\n",
       "2          \"Norma Shearer\"\n",
       "3         \"Marie Dressler\"\n",
       "4            \"Helen Hayes\"\n",
       "              ...         \n",
       "84          \"Meryl Streep\"\n",
       "85     \"Jennifer Lawrence\"\n",
       "86        \"Cate Blanchett\"\n",
       "87        \"Julianne Moore\"\n",
       "88           \"Brie Larson\"\n",
       "Name: Name, Length: 89, dtype: object"
      ]
     },
     "execution_count": 55,
     "metadata": {},
     "output_type": "execute_result"
    }
   ],
   "source": [
    "df[\"Name\"]"
   ]
  },
  {
   "cell_type": "code",
   "execution_count": 63,
   "id": "96d5ed02",
   "metadata": {},
   "outputs": [
    {
     "data": {
      "text/plain": [
       "0                     \"Seventh Heaven\n",
       "1                          \"Coquette\"\n",
       "2                    \"The Divorcee\"\\t\n",
       "3                      \"Min and Bill\"\n",
       "4      \"The Sin of Madelon Claudet\"\\t\n",
       "                   ...               \n",
       "84                    \"The Iron Lady\"\n",
       "85          \"Silver Linings Playbook\"\n",
       "86                     \"Blue Jasmine\"\n",
       "87                      \"Still Alice\"\n",
       "88                             \"Room\"\n",
       "Name: Movie, Length: 89, dtype: object"
      ]
     },
     "execution_count": 63,
     "metadata": {},
     "output_type": "execute_result"
    }
   ],
   "source": [
    "df[\"Movie\"]"
   ]
  },
  {
   "cell_type": "code",
   "execution_count": 86,
   "id": "c202f786",
   "metadata": {},
   "outputs": [
    {
     "data": {
      "text/html": [
       "<div>\n",
       "<style scoped>\n",
       "    .dataframe tbody tr th:only-of-type {\n",
       "        vertical-align: middle;\n",
       "    }\n",
       "\n",
       "    .dataframe tbody tr th {\n",
       "        vertical-align: top;\n",
       "    }\n",
       "\n",
       "    .dataframe thead th {\n",
       "        text-align: right;\n",
       "    }\n",
       "</style>\n",
       "<table border=\"1\" class=\"dataframe\">\n",
       "  <thead>\n",
       "    <tr style=\"text-align: right;\">\n",
       "      <th></th>\n",
       "      <th>Index</th>\n",
       "      <th>Year</th>\n",
       "      <th>Age</th>\n",
       "      <th>Name</th>\n",
       "      <th>Movie</th>\n",
       "      <th>Movie_2</th>\n",
       "    </tr>\n",
       "  </thead>\n",
       "  <tbody>\n",
       "  </tbody>\n",
       "</table>\n",
       "</div>"
      ],
      "text/plain": [
       "Empty DataFrame\n",
       "Columns: [Index, Year, Age, Name, Movie, Movie_2]\n",
       "Index: []"
      ]
     },
     "execution_count": 86,
     "metadata": {},
     "output_type": "execute_result"
    }
   ],
   "source": [
    "df[df[\"Name\"].replace('\"').str.strip() == '\"Janet Gaynor\"']"
   ]
  },
  {
   "cell_type": "code",
   "execution_count": 80,
   "id": "004c4de3",
   "metadata": {},
   "outputs": [
    {
     "data": {
      "text/plain": [
       "0           \"Janet Gaynor\"\n",
       "1          \"Mary Pickford\"\n",
       "2          \"Norma Shearer\"\n",
       "3         \"Marie Dressler\"\n",
       "4            \"Helen Hayes\"\n",
       "              ...         \n",
       "84          \"Meryl Streep\"\n",
       "85     \"Jennifer Lawrence\"\n",
       "86        \"Cate Blanchett\"\n",
       "87        \"Julianne Moore\"\n",
       "88           \"Brie Larson\"\n",
       "Name: Name, Length: 89, dtype: object"
      ]
     },
     "execution_count": 80,
     "metadata": {},
     "output_type": "execute_result"
    }
   ],
   "source": []
  },
  {
   "cell_type": "code",
   "execution_count": 82,
   "id": "35a55a50",
   "metadata": {},
   "outputs": [
    {
     "data": {
      "text/html": [
       "<div>\n",
       "<style scoped>\n",
       "    .dataframe tbody tr th:only-of-type {\n",
       "        vertical-align: middle;\n",
       "    }\n",
       "\n",
       "    .dataframe tbody tr th {\n",
       "        vertical-align: top;\n",
       "    }\n",
       "\n",
       "    .dataframe thead th {\n",
       "        text-align: right;\n",
       "    }\n",
       "</style>\n",
       "<table border=\"1\" class=\"dataframe\">\n",
       "  <thead>\n",
       "    <tr style=\"text-align: right;\">\n",
       "      <th></th>\n",
       "      <th>Index</th>\n",
       "      <th>Year</th>\n",
       "      <th>Age</th>\n",
       "      <th>Name</th>\n",
       "      <th>Movie</th>\n",
       "      <th>Movie_2</th>\n",
       "    </tr>\n",
       "  </thead>\n",
       "  <tbody>\n",
       "  </tbody>\n",
       "</table>\n",
       "</div>"
      ],
      "text/plain": [
       "Empty DataFrame\n",
       "Columns: [Index, Year, Age, Name, Movie, Movie_2]\n",
       "Index: []"
      ]
     },
     "execution_count": 82,
     "metadata": {},
     "output_type": "execute_result"
    }
   ],
   "source": []
  },
  {
   "cell_type": "code",
   "execution_count": null,
   "id": "f2d69d5a",
   "metadata": {},
   "outputs": [],
   "source": []
  }
 ],
 "metadata": {
  "kernelspec": {
   "display_name": "Python 3 (ipykernel)",
   "language": "python",
   "name": "python3"
  },
  "language_info": {
   "codemirror_mode": {
    "name": "ipython",
    "version": 3
   },
   "file_extension": ".py",
   "mimetype": "text/x-python",
   "name": "python",
   "nbconvert_exporter": "python",
   "pygments_lexer": "ipython3",
   "version": "3.10.12"
  }
 },
 "nbformat": 4,
 "nbformat_minor": 5
}
